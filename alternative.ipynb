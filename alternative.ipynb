{
 "cells": [
  {
   "cell_type": "code",
   "execution_count": 1,
   "id": "4a214e80",
   "metadata": {},
   "outputs": [],
   "source": [
    "import torch\n",
    "import torch.nn as nn\n",
    "from torchvision import datasets, transforms, models\n",
    "from torch.utils.data import DataLoader"
   ]
  },
  {
   "cell_type": "code",
   "execution_count": 20,
   "id": "884f4c86",
   "metadata": {},
   "outputs": [],
   "source": [
    "data_transform = transforms.Compose([\n",
    "    transforms.Grayscale(num_output_channels=3),\n",
    "    transforms.Resize((224, 224)),\n",
    "    transforms.RandomHorizontalFlip(p=0.5),\n",
    "    transforms.RandomRotation(degrees=60),\n",
    "    # transforms.ColorJitter(brightness=0.2, contrast=0.2, saturation=0.2, hue=0.1),\n",
    "    transforms.ToTensor(),\n",
    "    transforms.Normalize(mean=[0.485, 0.456, 0.406], \n",
    "                         std=[0.229, 0.224, 0.225])\n",
    "])\n",
    "\n",
    "val_transform = transforms.Compose([\n",
    "    transforms.Grayscale(num_output_channels=3),\n",
    "    transforms.Resize((224, 224)),\n",
    "    transforms.ToTensor(),\n",
    "    transforms.Normalize(mean=[0.485, 0.456, 0.406], \n",
    "                         std=[0.229, 0.224, 0.225])\n",
    "])\n",
    "\n",
    "train_dataset = datasets.ImageFolder(\"MRI Scans/Training\", transform=data_transform)\n",
    "test_dataset = datasets.ImageFolder(\"MRI Scans/Testing\", transform=val_transform)\n",
    "\n",
    "train_loader = DataLoader(train_dataset, batch_size=32, shuffle=True)\n",
    "test_loader = DataLoader(test_dataset, batch_size=32)"
   ]
  },
  {
   "cell_type": "code",
   "execution_count": 31,
   "id": "0b739ca6",
   "metadata": {},
   "outputs": [],
   "source": [
    "resnet = models.resnet50(pretrained=True)\n",
    "googlenet = models.googlenet(pretrained=True)\n",
    "\n",
    "# for param in resnet.parameters():\n",
    "#     param.requires_grad = False\n",
    "# for param in googlenet.parameters():\n",
    "#     param.requires_grad = False"
   ]
  },
  {
   "cell_type": "code",
   "execution_count": 32,
   "id": "f39d6fa4",
   "metadata": {},
   "outputs": [],
   "source": [
    "# resnet.fc = nn.Linear(resnet.fc.in_features, 4)\n",
    "\n",
    "# googlenet.fc = nn.Linear(googlenet.fc.in_features, 4)\n",
    "\n",
    "resnet.fc = nn.Sequential(\n",
    "    nn.Linear(resnet.fc.in_features, 2048),\n",
    "    nn.LeakyReLU(negative_slope=0.01, inplace=True),\n",
    "    nn.Dropout(p=0.4),\n",
    "    nn.Linear(2048, 2048),\n",
    "    nn.LeakyReLU(negative_slope=0.01, inplace=True),\n",
    "    nn.Dropout(p=0.4),\n",
    "    nn.Linear(2048, 4)\n",
    ")\n",
    "\n",
    "googlenet.fc = nn.Sequential(\n",
    "    nn.Linear(googlenet.fc.in_features, 2048),\n",
    "    nn.LeakyReLU(negative_slope=0.01, inplace=True),\n",
    "    nn.Dropout(p=0.4),\n",
    "    nn.Linear(2048, 2048),\n",
    "    nn.LeakyReLU(negative_slope=0.01, inplace=True),\n",
    "    nn.Dropout(p=0.4),\n",
    "    nn.Linear(2048, 4)\n",
    ")"
   ]
  },
  {
   "cell_type": "code",
   "execution_count": 33,
   "id": "d0d68666",
   "metadata": {},
   "outputs": [
    {
     "name": "stdout",
     "output_type": "stream",
     "text": [
      "Using device: cuda\n"
     ]
    }
   ],
   "source": [
    "device = torch.device(\"cuda\" if torch.cuda.is_available() else \"cpu\")\n",
    "print(f\"Using device: {device}\")\n",
    "\n",
    "resnet = resnet.to(device)\n",
    "googlenet = googlenet.to(device)"
   ]
  },
  {
   "cell_type": "code",
   "execution_count": 34,
   "id": "e1289c07",
   "metadata": {},
   "outputs": [],
   "source": [
    "criterion = nn.CrossEntropyLoss()\n",
    "optimizer = torch.optim.AdamW(list(resnet.fc.parameters()) + list(googlenet.fc.parameters()), lr=5e-5, weight_decay=1e-4)"
   ]
  },
  {
   "cell_type": "code",
   "execution_count": 35,
   "id": "6d691cf5",
   "metadata": {},
   "outputs": [
    {
     "name": "stdout",
     "output_type": "stream",
     "text": [
      "Epoch 1: Loss = 1.1074\n",
      "Epoch 2: Loss = 0.6610\n",
      "Epoch 3: Loss = 0.5664\n",
      "Epoch 4: Loss = 0.5203\n",
      "Epoch 5: Loss = 0.4925\n",
      "Epoch 6: Loss = 0.4476\n",
      "Epoch 7: Loss = 0.4233\n",
      "Epoch 8: Loss = 0.4323\n",
      "Epoch 9: Loss = 0.4131\n",
      "Epoch 10: Loss = 0.4155\n",
      "Epoch 11: Loss = 0.3972\n",
      "Epoch 12: Loss = 0.3761\n",
      "Epoch 13: Loss = 0.3766\n",
      "Epoch 14: Loss = 0.3829\n",
      "Epoch 15: Loss = 0.3740\n",
      "Epoch 16: Loss = 0.3495\n",
      "Epoch 17: Loss = 0.3673\n",
      "Epoch 18: Loss = 0.3689\n",
      "Epoch 19: Loss = 0.3710\n",
      "Epoch 20: Loss = 0.3579\n",
      "Epoch 21: Loss = 0.3343\n",
      "Epoch 22: Loss = 0.3355\n",
      "Epoch 23: Loss = 0.3396\n",
      "Epoch 24: Loss = 0.3382\n",
      "Epoch 25: Loss = 0.3426\n",
      "Epoch 26: Loss = 0.3412\n",
      "Epoch 27: Loss = 0.3063\n",
      "Epoch 28: Loss = 0.3250\n",
      "Epoch 29: Loss = 0.3257\n",
      "Epoch 30: Loss = 0.3230\n"
     ]
    }
   ],
   "source": [
    "for epoch in range(30):\n",
    "    resnet.train()\n",
    "    googlenet.train()\n",
    "    total_loss = 0\n",
    "\n",
    "    for images, labels in train_loader:\n",
    "        images, labels = images.to(device), labels.to(device)\n",
    "\n",
    "        resnet_out = resnet(images)\n",
    "        googlenet_out = googlenet(images)\n",
    "\n",
    "        # Ensemble: average outputs\n",
    "        outputs = (resnet_out + googlenet_out) / 2\n",
    "\n",
    "        loss = criterion(outputs, labels)\n",
    "        optimizer.zero_grad()\n",
    "        loss.backward()\n",
    "        optimizer.step()\n",
    "\n",
    "        total_loss += loss.item()\n",
    "\n",
    "    print(f\"Epoch {epoch+1}: Loss = {total_loss/len(train_loader):.4f}\")"
   ]
  },
  {
   "cell_type": "code",
   "execution_count": 36,
   "id": "3b6a984f",
   "metadata": {},
   "outputs": [
    {
     "name": "stdout",
     "output_type": "stream",
     "text": [
      "Test Accuracy: 62.94%\n"
     ]
    }
   ],
   "source": [
    "resnet.eval()\n",
    "googlenet.eval()\n",
    "correct = 0\n",
    "total = 0\n",
    "\n",
    "with torch.no_grad():\n",
    "    for images, labels in test_loader:\n",
    "        images, labels = images.to(device), labels.to(device)\n",
    "        resnet_out = resnet(images)\n",
    "        googlenet_out = googlenet(images)\n",
    "        outputs = (resnet_out + googlenet_out) / 2\n",
    "        _, predicted = torch.max(outputs, 1)\n",
    "        total += labels.size(0)\n",
    "        correct += (predicted == labels).sum().item()\n",
    "\n",
    "accuracy = correct / total * 100\n",
    "print(f\"Test Accuracy: {accuracy:.2f}%\")"
   ]
  },
  {
   "cell_type": "code",
   "execution_count": 37,
   "id": "f9ae572d",
   "metadata": {},
   "outputs": [
    {
     "name": "stdout",
     "output_type": "stream",
     "text": [
      "Training Accuracy: 86.52%\n"
     ]
    }
   ],
   "source": [
    "resnet.eval()\n",
    "googlenet.eval()\n",
    "correct_train = 0\n",
    "total_train = 0\n",
    "\n",
    "with torch.no_grad():\n",
    "    for images, labels in train_loader:\n",
    "        images, labels = images.to(device), labels.to(device)\n",
    "        resnet_out = resnet(images)\n",
    "        googlenet_out = googlenet(images)\n",
    "        outputs = (resnet_out + googlenet_out) / 2\n",
    "        _, predicted = torch.max(outputs, 1)\n",
    "        total_train += labels.size(0)\n",
    "        correct_train += (predicted == labels).sum().item()\n",
    "\n",
    "train_accuracy = correct_train / total_train * 100\n",
    "print(f\"Training Accuracy: {train_accuracy:.2f}%\")"
   ]
  }
 ],
 "metadata": {
  "kernelspec": {
   "display_name": ".venv",
   "language": "python",
   "name": "python3"
  },
  "language_info": {
   "codemirror_mode": {
    "name": "ipython",
    "version": 3
   },
   "file_extension": ".py",
   "mimetype": "text/x-python",
   "name": "python",
   "nbconvert_exporter": "python",
   "pygments_lexer": "ipython3",
   "version": "3.13.5"
  }
 },
 "nbformat": 4,
 "nbformat_minor": 5
}
