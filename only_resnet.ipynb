{
 "cells": [
  {
   "cell_type": "code",
   "execution_count": 1,
   "id": "03068dbc",
   "metadata": {},
   "outputs": [],
   "source": [
    "from PIL import Image\n",
    "from pathlib import Path\n",
    "\n",
    "# Define source and destination paths\n",
    "input_root = Path(\"MRI Scans/Training\")\n",
    "output_root = Path(\"MRI Scans_augmented/training\")\n",
    "\n",
    "# Define rotation angles\n",
    "# angles = [0, 30, 60, 90, 120, 150, 180, 210, 240, 270, 300, 330]\n",
    "angles = [0, 90, 180, 270]\n",
    "\n",
    "# Loop through each class folder\n",
    "for class_folder in input_root.iterdir():\n",
    "    if class_folder.is_dir():\n",
    "        class_name = class_folder.name\n",
    "        output_class_dir = output_root / class_name\n",
    "        output_class_dir.mkdir(parents=True, exist_ok=True)\n",
    "\n",
    "        # Process each image in the class folder\n",
    "        for img_path in class_folder.glob(\"*.jpg\"):\n",
    "            try:\n",
    "                image = Image.open(img_path).convert(\"RGB\")\n",
    "                for angle in angles:\n",
    "                    # Rotate image\n",
    "                    rotated = image.rotate(angle, expand=True)\n",
    "                    \n",
    "                    # Generate output file name\n",
    "                    output_name = f\"{img_path.stem}_rot{angle}.jpg\"\n",
    "                    rotated.save(output_class_dir / output_name)\n",
    "            except Exception as e:\n",
    "                print(f\"Error processing {img_path}: {e}\")"
   ]
  },
  {
   "cell_type": "code",
   "execution_count": 2,
   "id": "c6b22605",
   "metadata": {},
   "outputs": [],
   "source": [
    "import torch\n",
    "import torch.nn as nn\n",
    "from torchvision import datasets, transforms, models\n",
    "from torch.utils.data import DataLoader"
   ]
  },
  {
   "cell_type": "code",
   "execution_count": 3,
   "id": "e689f0ba",
   "metadata": {},
   "outputs": [],
   "source": [
    "data_transform = transforms.Compose([\n",
    "    transforms.Grayscale(num_output_channels=3),\n",
    "    transforms.Resize((224, 224)),\n",
    "    transforms.RandomHorizontalFlip(),\n",
    "    # transforms.RandomRotation(degrees=30),\n",
    "    # transforms.ColorJitter(brightness=0.2, contrast=0.2, saturation=0.2, hue=0.1),\n",
    "    transforms.ToTensor(),\n",
    "    transforms.Normalize(mean=[0.485, 0.456, 0.406], \n",
    "                         std=[0.229, 0.224, 0.225])\n",
    "])\n",
    "\n",
    "val_transform = transforms.Compose([\n",
    "    transforms.Grayscale(num_output_channels=3),\n",
    "    transforms.Resize((224, 224)),\n",
    "    transforms.ToTensor(),\n",
    "    transforms.Normalize(mean=[0.485, 0.456, 0.406], \n",
    "                         std=[0.229, 0.224, 0.225])\n",
    "])\n",
    "\n",
    "train_dataset = datasets.ImageFolder(\"MRI Scans_augmented/training\", transform=data_transform)\n",
    "test_dataset = datasets.ImageFolder(\"MRI Scans/Testing\", transform=val_transform)\n",
    "\n",
    "train_loader = DataLoader(train_dataset, batch_size=32, shuffle=True)\n",
    "test_loader = DataLoader(test_dataset, batch_size=32)"
   ]
  },
  {
   "cell_type": "code",
   "execution_count": 4,
   "id": "afb2d5cb",
   "metadata": {},
   "outputs": [
    {
     "name": "stderr",
     "output_type": "stream",
     "text": [
      "g:\\My Programming files\\Python dev\\Machine Learning Project Final Year\\.venv\\Lib\\site-packages\\torchvision\\models\\_utils.py:208: UserWarning: The parameter 'pretrained' is deprecated since 0.13 and may be removed in the future, please use 'weights' instead.\n",
      "  warnings.warn(\n",
      "g:\\My Programming files\\Python dev\\Machine Learning Project Final Year\\.venv\\Lib\\site-packages\\torchvision\\models\\_utils.py:223: UserWarning: Arguments other than a weight enum or `None` for 'weights' are deprecated since 0.13 and may be removed in the future. The current behavior is equivalent to passing `weights=ResNet50_Weights.IMAGENET1K_V1`. You can also use `weights=ResNet50_Weights.DEFAULT` to get the most up-to-date weights.\n",
      "  warnings.warn(msg)\n"
     ]
    }
   ],
   "source": [
    "resnet = models.resnet50(pretrained=True)\n",
    "\n",
    "for param in resnet.parameters():\n",
    "    param.requires_grad = False"
   ]
  },
  {
   "cell_type": "code",
   "execution_count": 5,
   "id": "0b9e7e07",
   "metadata": {},
   "outputs": [],
   "source": [
    "resnet.fc = nn.Sequential(\n",
    "    nn.Linear(resnet.fc.in_features, 2048),\n",
    "    nn.LeakyReLU(negative_slope=0.01, inplace=True),\n",
    "    nn.Dropout(p=0.4),\n",
    "    nn.Linear(2048, 2048),\n",
    "    nn.LeakyReLU(negative_slope=0.01, inplace=True),\n",
    "    nn.Dropout(p=0.4),\n",
    "    nn.Linear(2048, 4)\n",
    ")"
   ]
  },
  {
   "cell_type": "code",
   "execution_count": 6,
   "id": "759426ae",
   "metadata": {},
   "outputs": [
    {
     "name": "stdout",
     "output_type": "stream",
     "text": [
      "Using device: cuda\n"
     ]
    }
   ],
   "source": [
    "device = torch.device(\"cuda\" if torch.cuda.is_available() else \"cpu\")\n",
    "print(f\"Using device: {device}\")\n",
    "\n",
    "resnet = resnet.to(device)"
   ]
  },
  {
   "cell_type": "code",
   "execution_count": 7,
   "id": "95653fb4",
   "metadata": {},
   "outputs": [],
   "source": [
    "from sklearn.utils.class_weight import compute_class_weight\n",
    "import numpy as np\n",
    "import torch\n",
    "\n",
    "# Define class labels and counts (in same order as class_names)\n",
    "targets = train_loader.dataset.targets\n",
    "class_weights = compute_class_weight(\n",
    "    class_weight='balanced',\n",
    "    classes=np.unique(targets),\n",
    "    y=targets\n",
    ")\n",
    "\n",
    "# Convert to tensor and send to device\n",
    "class_weights = torch.tensor(class_weights, dtype=torch.float).to(device)\n",
    "\n",
    "# Create weighted CrossEntropyLoss\n",
    "criterion = nn.CrossEntropyLoss(weight=class_weights)\n",
    "\n",
    "optimizer = torch.optim.AdamW(list(resnet.fc.parameters()), lr=5e-5, weight_decay=1e-3)"
   ]
  },
  {
   "cell_type": "code",
   "execution_count": 8,
   "id": "46b62cd9",
   "metadata": {},
   "outputs": [
    {
     "name": "stdout",
     "output_type": "stream",
     "text": [
      "Epoch 1: Train Loss = 0.4837, Train Acc = 81.43%, Val Loss = 0.5800, Val Acc = 79.80%\n",
      "Epoch 2: Train Loss = 0.3426, Train Acc = 87.06%, Val Loss = 0.5248, Val Acc = 83.16%\n",
      "Epoch 3: Train Loss = 0.2909, Train Acc = 88.76%, Val Loss = 0.5229, Val Acc = 84.52%\n",
      "Epoch 4: Train Loss = 0.2606, Train Acc = 89.96%, Val Loss = 0.5204, Val Acc = 86.20%\n",
      "Epoch 5: Train Loss = 0.2260, Train Acc = 91.13%, Val Loss = 0.6096, Val Acc = 85.64%\n",
      "Epoch 6: Train Loss = 0.2069, Train Acc = 92.01%, Val Loss = 0.5273, Val Acc = 87.63%\n",
      "Epoch 7: Train Loss = 0.1918, Train Acc = 92.56%, Val Loss = 0.5990, Val Acc = 86.76%\n",
      "Epoch 8: Train Loss = 0.1734, Train Acc = 93.37%, Val Loss = 0.4832, Val Acc = 89.12%\n",
      "Epoch 9: Train Loss = 0.1596, Train Acc = 93.77%, Val Loss = 0.4968, Val Acc = 90.49%\n",
      "Epoch 10: Train Loss = 0.1513, Train Acc = 94.14%, Val Loss = 0.5369, Val Acc = 90.24%\n",
      "Epoch 11: Train Loss = 0.1418, Train Acc = 94.51%, Val Loss = 0.5395, Val Acc = 90.62%\n",
      "Epoch 12: Train Loss = 0.1321, Train Acc = 94.95%, Val Loss = 0.4576, Val Acc = 91.49%\n",
      "Epoch 13: Train Loss = 0.1223, Train Acc = 95.13%, Val Loss = 0.6071, Val Acc = 89.43%\n",
      "Epoch 14: Train Loss = 0.1185, Train Acc = 95.48%, Val Loss = 0.5277, Val Acc = 90.99%\n",
      "Epoch 15: Train Loss = 0.1097, Train Acc = 95.68%, Val Loss = 0.5425, Val Acc = 90.80%\n",
      "Epoch 16: Train Loss = 0.1094, Train Acc = 95.73%, Val Loss = 0.4875, Val Acc = 92.11%\n",
      "Epoch 17: Train Loss = 0.1048, Train Acc = 96.01%, Val Loss = 0.5020, Val Acc = 92.85%\n",
      "Epoch 18: Train Loss = 0.0977, Train Acc = 96.31%, Val Loss = 0.5772, Val Acc = 91.92%\n",
      "Epoch 19: Train Loss = 0.0913, Train Acc = 96.52%, Val Loss = 0.5308, Val Acc = 92.54%\n",
      "Epoch 20: Train Loss = 0.0900, Train Acc = 96.57%, Val Loss = 0.6214, Val Acc = 92.60%\n"
     ]
    }
   ],
   "source": [
    "best_val_acc = 0\n",
    "patience = 3\n",
    "trigger_times = 0\n",
    "\n",
    "\n",
    "for epoch in range(20):\n",
    "    resnet.train()\n",
    "    total_loss = 0\n",
    "    correct = 0\n",
    "    total = 0\n",
    "\n",
    "    for images, labels in train_loader:\n",
    "        images, labels = images.to(device), labels.to(device)\n",
    "\n",
    "        resnet_out = resnet(images)\n",
    "\n",
    "        outputs = resnet_out\n",
    "\n",
    "        loss = criterion(outputs, labels)\n",
    "        optimizer.zero_grad()\n",
    "        loss.backward()\n",
    "        optimizer.step()\n",
    "\n",
    "        total_loss += loss.item()\n",
    "        _, predicted = torch.max(outputs, 1)\n",
    "        correct += (predicted == labels).sum().item()\n",
    "        total += labels.size(0)\n",
    "\n",
    "    train_acc = 100 * correct / total\n",
    "    train_loss = total_loss / len(train_loader)\n",
    "\n",
    "    # Validation phase\n",
    "    resnet.eval()\n",
    "    val_loss = 0\n",
    "    val_correct = 0\n",
    "    val_total = 0\n",
    "\n",
    "    with torch.no_grad():\n",
    "        for val_images, val_labels in test_loader:\n",
    "            val_images, val_labels = val_images.to(device), val_labels.to(device)\n",
    "\n",
    "            val_outputs = resnet(val_images)\n",
    "            loss = criterion(val_outputs, val_labels)\n",
    "\n",
    "            val_loss += loss.item()\n",
    "            _, val_predicted = torch.max(val_outputs, 1)\n",
    "            val_correct += (val_predicted == val_labels).sum().item()\n",
    "            val_total += val_labels.size(0)\n",
    "\n",
    "    val_acc = 100 * val_correct / val_total\n",
    "    val_loss = val_loss / len(test_loader)\n",
    "\n",
    "    print(f\"Epoch {epoch+1}: \"\n",
    "          f\"Train Loss = {train_loss:.4f}, Train Acc = {train_acc:.2f}%, \"\n",
    "          f\"Val Loss = {val_loss:.4f}, Val Acc = {val_acc:.2f}%\")"
   ]
  },
  {
   "cell_type": "code",
   "execution_count": 9,
   "id": "70d13f73",
   "metadata": {},
   "outputs": [
    {
     "name": "stdout",
     "output_type": "stream",
     "text": [
      "\n",
      "Total Training Accuracy: 98.55%\n",
      "\n",
      "Training accuracy for class 'glioma': 95.54%\n",
      "Training accuracy for class 'meningioma': 99.27%\n",
      "Training accuracy for class 'no_tumor': 99.97%\n",
      "Training accuracy for class 'pituitary': 99.44%\n"
     ]
    }
   ],
   "source": [
    "resnet.eval()\n",
    "\n",
    "num_classes = len(train_loader.dataset.classes)\n",
    "class_names = train_loader.dataset.classes\n",
    "\n",
    "class_correct = [0] * num_classes\n",
    "class_total = [0] * num_classes\n",
    "total_correct = 0\n",
    "total_samples = 0\n",
    "\n",
    "with torch.no_grad():\n",
    "    for images, labels in train_loader:\n",
    "        images, labels = images.to(device), labels.to(device)\n",
    "        outputs = resnet(images)\n",
    "        _, predicted = torch.max(outputs, 1)\n",
    "\n",
    "        total_correct += (predicted == labels).sum().item()\n",
    "        total_samples += labels.size(0)\n",
    "\n",
    "        for i in range(len(labels)):\n",
    "            label = labels[i].item()\n",
    "            pred = predicted[i].item()\n",
    "            if label == pred:\n",
    "                class_correct[label] += 1\n",
    "            class_total[label] += 1\n",
    "\n",
    "# Total training accuracy\n",
    "train_accuracy = 100 * total_correct / total_samples\n",
    "print(f\"\\nTotal Training Accuracy: {train_accuracy:.2f}%\\n\")\n",
    "\n",
    "# Per-class training accuracy\n",
    "for i in range(num_classes):\n",
    "    if class_total[i] > 0:\n",
    "        acc = 100 * class_correct[i] / class_total[i]\n",
    "        print(f\"Training accuracy for class '{class_names[i]}': {acc:.2f}%\")\n",
    "    else:\n",
    "        print(f\"No samples for class '{class_names[i]}'\")"
   ]
  },
  {
   "cell_type": "code",
   "execution_count": 10,
   "id": "2323aa6f",
   "metadata": {},
   "outputs": [
    {
     "name": "stdout",
     "output_type": "stream",
     "text": [
      "\n",
      "Total Test Accuracy: 92.60%\n",
      "\n",
      "Accuracy for class 'glioma': 71.75%\n",
      "Accuracy for class 'meningioma': 98.78%\n",
      "Accuracy for class 'no_tumor': 100.00%\n",
      "Accuracy for class 'pituitary': 95.81%\n"
     ]
    }
   ],
   "source": [
    "resnet.eval()\n",
    "num_classes = len(test_loader.dataset.classes)\n",
    "class_names = test_loader.dataset.classes\n",
    "\n",
    "class_correct = [0] * num_classes\n",
    "class_total = [0] * num_classes\n",
    "total_correct = 0\n",
    "total_samples = 0\n",
    "\n",
    "with torch.no_grad():\n",
    "    for images, labels in test_loader:\n",
    "        images, labels = images.to(device), labels.to(device)\n",
    "        outputs = resnet(images)\n",
    "        _, predicted = torch.max(outputs, 1)\n",
    "\n",
    "        total_correct += (predicted == labels).sum().item()\n",
    "        total_samples += labels.size(0)\n",
    "\n",
    "        for i in range(len(labels)):\n",
    "            label = labels[i].item()\n",
    "            pred = predicted[i].item()\n",
    "            if label == pred:\n",
    "                class_correct[label] += 1\n",
    "            class_total[label] += 1\n",
    "\n",
    "total_accuracy = 100 * total_correct / total_samples\n",
    "print(f\"\\nTotal Test Accuracy: {total_accuracy:.2f}%\\n\")\n",
    "\n",
    "for i in range(num_classes):\n",
    "    if class_total[i] > 0:\n",
    "        acc = 100 * class_correct[i] / class_total[i]\n",
    "        print(f\"Accuracy for class '{class_names[i]}': {acc:.2f}%\")\n",
    "    else:\n",
    "        print(f\"No samples for class '{class_names[i]}'\")"
   ]
  },
  {
   "cell_type": "code",
   "execution_count": 11,
   "id": "3562f24c",
   "metadata": {},
   "outputs": [
    {
     "data": {
      "text/plain": [
       "<sklearn.metrics._plot.confusion_matrix.ConfusionMatrixDisplay at 0x1ebd4c838c0>"
      ]
     },
     "execution_count": 11,
     "metadata": {},
     "output_type": "execute_result"
    },
    {
     "data": {
      "image/png": "[encoded data removed]",
      "text/plain": [
       "<Figure size 640x480 with 2 Axes>"
      ]
     },
     "metadata": {},
     "output_type": "display_data"
    }
   ],
   "source": [
    "from sklearn.metrics import confusion_matrix, ConfusionMatrixDisplay\n",
    "\n",
    "# Collect all predictions and labels\n",
    "all_preds = []\n",
    "all_labels = []\n",
    "\n",
    "with torch.no_grad():\n",
    "    for images, labels in test_loader:\n",
    "        images, labels = images.to(device), labels.to(device)\n",
    "        outputs = resnet(images)\n",
    "        _, predicted = torch.max(outputs, 1)\n",
    "        all_preds.extend(predicted.cpu().numpy())\n",
    "        all_labels.extend(labels.cpu().numpy())\n",
    "\n",
    "# Create confusion matrix\n",
    "cm = confusion_matrix(all_labels, all_preds)\n",
    "disp = ConfusionMatrixDisplay(confusion_matrix=cm, display_labels=class_names)\n",
    "disp.plot(cmap='Blues', xticks_rotation=45)"
   ]
  }
 ],
 "metadata": {
  "kernelspec": {
   "display_name": ".venv",
   "language": "python",
   "name": "python3"
  },
  "language_info": {
   "codemirror_mode": {
    "name": "ipython",
    "version": 3
   },
   "file_extension": ".py",
   "mimetype": "text/x-python",
   "name": "python",
   "nbconvert_exporter": "python",
   "pygments_lexer": "ipython3",
   "version": "3.13.5"
  }
 },
 "nbformat": 4,
 "nbformat_minor": 5
}
